{
 "cells": [
  {
   "cell_type": "markdown",
   "id": "c3ddc679",
   "metadata": {},
   "source": [
    "# Amazon expense analysis\n",
    "by Vinodhini Rajamanickam"
   ]
  },
  {
   "cell_type": "markdown",
   "id": "107f70f1",
   "metadata": {},
   "source": [
    "This project and the data contained within are the property of [*Vinodhini Rajamanickam*] and were provided by Amazon as per my request.\n",
    "This project is for educational and study purposes only. Any misuse, reproduction, or distribution of this project or data is strictly prohibited and will not be tolerated.\n",
    "\n",
    "Please note that the data provided is unique to this project and is not to be used or replicated without permission from [Vinodhini Rajamanickam].\n"
   ]
  },
  {
   "cell_type": "markdown",
   "id": "a12031c1",
   "metadata": {},
   "source": [
    "### importing necessary packages"
   ]
  },
  {
   "cell_type": "code",
   "execution_count": 1,
   "id": "3fe5b2fd",
   "metadata": {},
   "outputs": [],
   "source": [
    "#data analysis\n",
    "import pandas as pd\n",
    "\n",
    "#data visualization\n",
    "import matplotlib.pyplot as plt\n",
    "import seaborn as sns"
   ]
  },
  {
   "cell_type": "markdown",
   "id": "93aca28e",
   "metadata": {},
   "source": [
    "### read data"
   ]
  },
  {
   "cell_type": "code",
   "execution_count": 2,
   "id": "c1bbe028",
   "metadata": {},
   "outputs": [],
   "source": [
    "data = pd.read_csv(\"Retail.OrderHistory.2.csv\")"
   ]
  },
  {
   "cell_type": "code",
   "execution_count": null,
   "id": "accdd208",
   "metadata": {},
   "outputs": [],
   "source": [
    "data.head(3)"
   ]
  },
  {
   "cell_type": "code",
   "execution_count": 3,
   "id": "73aec827",
   "metadata": {},
   "outputs": [
    {
     "data": {
      "text/plain": [
       "(303, 27)"
      ]
     },
     "execution_count": 3,
     "metadata": {},
     "output_type": "execute_result"
    }
   ],
   "source": [
    "# the number of rows and columns\n",
    "data.shape"
   ]
  },
  {
   "cell_type": "code",
   "execution_count": 4,
   "id": "5799e7f7",
   "metadata": {},
   "outputs": [
    {
     "data": {
      "text/plain": [
       "Index(['Website', 'Order ID', 'Order Date', 'Purchase Order Number',\n",
       "       'Currency', 'Unit Price', 'Unit Price Tax', 'Shipping Charge',\n",
       "       'Total Discounts', 'Total Owed', 'Shipment Item Subtotal',\n",
       "       'Shipment Item Subtotal Tax', 'ASIN', 'Product Condition', 'Quantity',\n",
       "       'Payment Instrument Type', 'Order Status', 'Shipment Status',\n",
       "       'Ship Date', 'Shipping Option', 'Shipping Address', 'Billing Address',\n",
       "       'Carrier Name & Tracking Number', 'Product Name', 'Gift Message',\n",
       "       'Gift Sender Name', 'Gift Recipient Contact Details'],\n",
       "      dtype='object')"
      ]
     },
     "execution_count": 4,
     "metadata": {},
     "output_type": "execute_result"
    }
   ],
   "source": [
    "#columns in the data\n",
    "data.columns"
   ]
  },
  {
   "cell_type": "markdown",
   "id": "45910a7f",
   "metadata": {},
   "source": [
    "#### remove unnecessary columns"
   ]
  },
  {
   "cell_type": "code",
   "execution_count": 5,
   "id": "b5a7c421",
   "metadata": {},
   "outputs": [],
   "source": [
    "data = data.drop([\"Payment Instrument Type\",'Order ID',\"Purchase Order Number\",\"Gift Message\",\"Gift Sender Name\",\"Gift Recipient Contact Details\",\"Currency\",\"Website\",\"Billing Address\",\"Shipping Address\",\"Carrier Name & Tracking Number\",\"ASIN\",\"Product Condition\",\"Shipment Item Subtotal\",\"Shipment Item Subtotal Tax\"],axis = 1)"
   ]
  },
  {
   "cell_type": "code",
   "execution_count": null,
   "id": "6ed3f9d7",
   "metadata": {},
   "outputs": [],
   "source": [
    "data.head(3)"
   ]
  },
  {
   "cell_type": "markdown",
   "id": "a239fe92",
   "metadata": {},
   "source": [
    "#### splitting order Date into separate columns: order date, order time, order month and order year"
   ]
  },
  {
   "cell_type": "code",
   "execution_count": 6,
   "id": "c6dda5f1",
   "metadata": {},
   "outputs": [],
   "source": [
    "#convert order date column into datetime\n",
    "data[\"Order Date\"] = pd.to_datetime(data[\"Order Date\"])"
   ]
  },
  {
   "cell_type": "code",
   "execution_count": null,
   "id": "4bc5bdd1",
   "metadata": {},
   "outputs": [],
   "source": [
    "data.head(2)"
   ]
  },
  {
   "cell_type": "code",
   "execution_count": 7,
   "id": "451315b2",
   "metadata": {},
   "outputs": [
    {
     "name": "stderr",
     "output_type": "stream",
     "text": [
      "C:\\Users\\avino\\anaconda3\\lib\\site-packages\\pandas\\core\\arrays\\datetimes.py:1162: UserWarning: Converting to PeriodArray/Index representation will drop timezone information.\n",
      "  warnings.warn(\n",
      "C:\\Users\\avino\\anaconda3\\lib\\site-packages\\pandas\\core\\arrays\\datetimes.py:1162: UserWarning: Converting to PeriodArray/Index representation will drop timezone information.\n",
      "  warnings.warn(\n"
     ]
    }
   ],
   "source": [
    "# split the order date column into separate date and time columns\n",
    "\n",
    "data['Order date'] = data['Order Date'].dt.date\n",
    "data['Order Time'] = data['Order Date'].dt.time\n",
    "\n",
    "#splitting the order date column into seaprate month and year column\n",
    "data['Order Month'] = data['Order Date'].dt.to_period('M')\n",
    "data['Order Year'] = data['Order Date'].dt.to_period('Y')\n",
    "\n",
    "\n",
    "#deleting the original order date column\n",
    "data.drop('Order Date', axis=1, inplace=True)"
   ]
  },
  {
   "cell_type": "code",
   "execution_count": null,
   "id": "8bf19fcb",
   "metadata": {},
   "outputs": [],
   "source": [
    "data.head(2)"
   ]
  },
  {
   "cell_type": "code",
   "execution_count": 8,
   "id": "d253cb34",
   "metadata": {},
   "outputs": [
    {
     "data": {
      "text/plain": [
       "(303, 15)"
      ]
     },
     "execution_count": 8,
     "metadata": {},
     "output_type": "execute_result"
    }
   ],
   "source": [
    "#checking shape after deleting  and adding columns\n",
    "data.shape"
   ]
  },
  {
   "cell_type": "code",
   "execution_count": 9,
   "id": "3f48e51a",
   "metadata": {},
   "outputs": [
    {
     "data": {
      "text/plain": [
       "Unit Price           0\n",
       "Unit Price Tax       0\n",
       "Shipping Charge      0\n",
       "Total Discounts      0\n",
       "Total Owed           0\n",
       "Quantity             0\n",
       "Order Status         0\n",
       "Shipment Status     77\n",
       "Ship Date           77\n",
       "Shipping Option    114\n",
       "Product Name         0\n",
       "Order date           0\n",
       "Order Time           0\n",
       "Order Month          0\n",
       "Order Year           0\n",
       "dtype: int64"
      ]
     },
     "execution_count": 9,
     "metadata": {},
     "output_type": "execute_result"
    }
   ],
   "source": [
    "#checking for null values\n",
    "data.isnull().sum()"
   ]
  },
  {
   "cell_type": "code",
   "execution_count": 11,
   "id": "51ce7a48",
   "metadata": {},
   "outputs": [],
   "source": [
    "# filling null values\n",
    "data = data.fillna(\"not available\")\n",
    "# data"
   ]
  },
  {
   "cell_type": "code",
   "execution_count": 12,
   "id": "96bfcaca",
   "metadata": {},
   "outputs": [
    {
     "data": {
      "text/plain": [
       "Unit Price         0\n",
       "Unit Price Tax     0\n",
       "Shipping Charge    0\n",
       "Total Discounts    0\n",
       "Total Owed         0\n",
       "Quantity           0\n",
       "Order Status       0\n",
       "Shipment Status    0\n",
       "Ship Date          0\n",
       "Shipping Option    0\n",
       "Product Name       0\n",
       "Order date         0\n",
       "Order Time         0\n",
       "Order Month        0\n",
       "Order Year         0\n",
       "dtype: int64"
      ]
     },
     "execution_count": 12,
     "metadata": {},
     "output_type": "execute_result"
    }
   ],
   "source": [
    "#checking for null values after filling all the null values\n",
    "data.isnull().sum()"
   ]
  },
  {
   "cell_type": "code",
   "execution_count": 13,
   "id": "4f6e70bf",
   "metadata": {},
   "outputs": [
    {
     "name": "stdout",
     "output_type": "stream",
     "text": [
      "<class 'pandas.core.frame.DataFrame'>\n",
      "RangeIndex: 303 entries, 0 to 302\n",
      "Data columns (total 15 columns):\n",
      " #   Column           Non-Null Count  Dtype        \n",
      "---  ------           --------------  -----        \n",
      " 0   Unit Price       303 non-null    object       \n",
      " 1   Unit Price Tax   303 non-null    object       \n",
      " 2   Shipping Charge  303 non-null    float64      \n",
      " 3   Total Discounts  303 non-null    object       \n",
      " 4   Total Owed       303 non-null    object       \n",
      " 5   Quantity         303 non-null    int64        \n",
      " 6   Order Status     303 non-null    object       \n",
      " 7   Shipment Status  303 non-null    object       \n",
      " 8   Ship Date        303 non-null    object       \n",
      " 9   Shipping Option  303 non-null    object       \n",
      " 10  Product Name     303 non-null    object       \n",
      " 11  Order date       303 non-null    object       \n",
      " 12  Order Time       303 non-null    object       \n",
      " 13  Order Month      303 non-null    period[M]    \n",
      " 14  Order Year       303 non-null    period[A-DEC]\n",
      "dtypes: float64(1), int64(1), object(11), period[A-DEC](1), period[M](1)\n",
      "memory usage: 35.6+ KB\n"
     ]
    }
   ],
   "source": [
    "data.info()"
   ]
  },
  {
   "cell_type": "code",
   "execution_count": 14,
   "id": "c65cd17a",
   "metadata": {},
   "outputs": [
    {
     "data": {
      "text/html": [
       "<div>\n",
       "<style scoped>\n",
       "    .dataframe tbody tr th:only-of-type {\n",
       "        vertical-align: middle;\n",
       "    }\n",
       "\n",
       "    .dataframe tbody tr th {\n",
       "        vertical-align: top;\n",
       "    }\n",
       "\n",
       "    .dataframe thead th {\n",
       "        text-align: right;\n",
       "    }\n",
       "</style>\n",
       "<table border=\"1\" class=\"dataframe\">\n",
       "  <thead>\n",
       "    <tr style=\"text-align: right;\">\n",
       "      <th></th>\n",
       "      <th>Shipping Charge</th>\n",
       "      <th>Quantity</th>\n",
       "    </tr>\n",
       "  </thead>\n",
       "  <tbody>\n",
       "    <tr>\n",
       "      <th>count</th>\n",
       "      <td>303.000000</td>\n",
       "      <td>303.000000</td>\n",
       "    </tr>\n",
       "    <tr>\n",
       "      <th>mean</th>\n",
       "      <td>3.082211</td>\n",
       "      <td>0.768977</td>\n",
       "    </tr>\n",
       "    <tr>\n",
       "      <th>std</th>\n",
       "      <td>28.391927</td>\n",
       "      <td>0.466878</td>\n",
       "    </tr>\n",
       "    <tr>\n",
       "      <th>min</th>\n",
       "      <td>0.000000</td>\n",
       "      <td>0.000000</td>\n",
       "    </tr>\n",
       "    <tr>\n",
       "      <th>25%</th>\n",
       "      <td>0.000000</td>\n",
       "      <td>1.000000</td>\n",
       "    </tr>\n",
       "    <tr>\n",
       "      <th>50%</th>\n",
       "      <td>0.000000</td>\n",
       "      <td>1.000000</td>\n",
       "    </tr>\n",
       "    <tr>\n",
       "      <th>75%</th>\n",
       "      <td>0.000000</td>\n",
       "      <td>1.000000</td>\n",
       "    </tr>\n",
       "    <tr>\n",
       "      <th>max</th>\n",
       "      <td>345.000000</td>\n",
       "      <td>3.000000</td>\n",
       "    </tr>\n",
       "  </tbody>\n",
       "</table>\n",
       "</div>"
      ],
      "text/plain": [
       "       Shipping Charge    Quantity\n",
       "count       303.000000  303.000000\n",
       "mean          3.082211    0.768977\n",
       "std          28.391927    0.466878\n",
       "min           0.000000    0.000000\n",
       "25%           0.000000    1.000000\n",
       "50%           0.000000    1.000000\n",
       "75%           0.000000    1.000000\n",
       "max         345.000000    3.000000"
      ]
     },
     "execution_count": 14,
     "metadata": {},
     "output_type": "execute_result"
    }
   ],
   "source": [
    "data.describe()"
   ]
  },
  {
   "cell_type": "markdown",
   "id": "b5dc66c3",
   "metadata": {},
   "source": [
    "## total amount of money spent"
   ]
  },
  {
   "cell_type": "code",
   "execution_count": 15,
   "id": "61783d1a",
   "metadata": {},
   "outputs": [],
   "source": [
    "data[\"Total Owed\"] = data[\"Total Owed\"].str.replace(\",\" ,\"\").astype(float)\n"
   ]
  },
  {
   "cell_type": "code",
   "execution_count": 16,
   "id": "1f2c2ee4",
   "metadata": {},
   "outputs": [
    {
     "data": {
      "text/html": [
       "<div>\n",
       "<style scoped>\n",
       "    .dataframe tbody tr th:only-of-type {\n",
       "        vertical-align: middle;\n",
       "    }\n",
       "\n",
       "    .dataframe tbody tr th {\n",
       "        vertical-align: top;\n",
       "    }\n",
       "\n",
       "    .dataframe thead th {\n",
       "        text-align: right;\n",
       "    }\n",
       "</style>\n",
       "<table border=\"1\" class=\"dataframe\">\n",
       "  <thead>\n",
       "    <tr style=\"text-align: right;\">\n",
       "      <th></th>\n",
       "      <th>Total Owed</th>\n",
       "    </tr>\n",
       "  </thead>\n",
       "  <tbody>\n",
       "    <tr>\n",
       "      <th>0</th>\n",
       "      <td>1499.0</td>\n",
       "    </tr>\n",
       "    <tr>\n",
       "      <th>2</th>\n",
       "      <td>175.0</td>\n",
       "    </tr>\n",
       "    <tr>\n",
       "      <th>3</th>\n",
       "      <td>1499.0</td>\n",
       "    </tr>\n",
       "    <tr>\n",
       "      <th>4</th>\n",
       "      <td>1474.0</td>\n",
       "    </tr>\n",
       "    <tr>\n",
       "      <th>5</th>\n",
       "      <td>199.0</td>\n",
       "    </tr>\n",
       "    <tr>\n",
       "      <th>...</th>\n",
       "      <td>...</td>\n",
       "    </tr>\n",
       "    <tr>\n",
       "      <th>294</th>\n",
       "      <td>10.0</td>\n",
       "    </tr>\n",
       "    <tr>\n",
       "      <th>297</th>\n",
       "      <td>399.0</td>\n",
       "    </tr>\n",
       "    <tr>\n",
       "      <th>298</th>\n",
       "      <td>374.0</td>\n",
       "    </tr>\n",
       "    <tr>\n",
       "      <th>300</th>\n",
       "      <td>588.0</td>\n",
       "    </tr>\n",
       "    <tr>\n",
       "      <th>302</th>\n",
       "      <td>574.0</td>\n",
       "    </tr>\n",
       "  </tbody>\n",
       "</table>\n",
       "<p>228 rows × 1 columns</p>\n",
       "</div>"
      ],
      "text/plain": [
       "     Total Owed\n",
       "0        1499.0\n",
       "2         175.0\n",
       "3        1499.0\n",
       "4        1474.0\n",
       "5         199.0\n",
       "..          ...\n",
       "294        10.0\n",
       "297       399.0\n",
       "298       374.0\n",
       "300       588.0\n",
       "302       574.0\n",
       "\n",
       "[228 rows x 1 columns]"
      ]
     },
     "execution_count": 16,
     "metadata": {},
     "output_type": "execute_result"
    }
   ],
   "source": [
    "total_spent = data.query(\"`Order Status` != 'Cancelled'\")[\"Total Owed\"]\n",
    "total_spent = total_spent.to_frame()\n",
    "total_spent"
   ]
  },
  {
   "cell_type": "code",
   "execution_count": 17,
   "id": "3d74ece8",
   "metadata": {},
   "outputs": [
    {
     "data": {
      "text/plain": [
       "346620.33999999997"
      ]
     },
     "execution_count": 17,
     "metadata": {},
     "output_type": "execute_result"
    }
   ],
   "source": [
    "# total amount of money spend on amazon\n",
    "total_spent[\"Total Owed\"].sum()"
   ]
  },
  {
   "cell_type": "markdown",
   "id": "22fdc1d9",
   "metadata": {},
   "source": [
    "the total amount of money I spent on amazon shopping is ₹346620.33 "
   ]
  },
  {
   "cell_type": "markdown",
   "id": "f3f40df5",
   "metadata": {},
   "source": [
    "### average amount of money spent "
   ]
  },
  {
   "cell_type": "code",
   "execution_count": 18,
   "id": "69d07ddf",
   "metadata": {},
   "outputs": [
    {
     "data": {
      "text/plain": [
       "1520.264649122807"
      ]
     },
     "execution_count": 18,
     "metadata": {},
     "output_type": "execute_result"
    }
   ],
   "source": [
    "total_spent[\"Total Owed\"].mean()"
   ]
  },
  {
   "cell_type": "markdown",
   "id": "8e0bc192",
   "metadata": {},
   "source": [
    "the average amount of money I spent on amazon shopping is ₹ 1520.26"
   ]
  },
  {
   "cell_type": "markdown",
   "id": "13477c9e",
   "metadata": {},
   "source": [
    "### highest priced order"
   ]
  },
  {
   "cell_type": "code",
   "execution_count": 19,
   "id": "42accda4",
   "metadata": {},
   "outputs": [
    {
     "data": {
      "text/plain": [
       "74990.0"
      ]
     },
     "execution_count": 19,
     "metadata": {},
     "output_type": "execute_result"
    }
   ],
   "source": [
    "total_spent[\"Total Owed\"].max()"
   ]
  },
  {
   "cell_type": "code",
   "execution_count": 20,
   "id": "8c675956",
   "metadata": {},
   "outputs": [
    {
     "data": {
      "text/html": [
       "<div>\n",
       "<style scoped>\n",
       "    .dataframe tbody tr th:only-of-type {\n",
       "        vertical-align: middle;\n",
       "    }\n",
       "\n",
       "    .dataframe tbody tr th {\n",
       "        vertical-align: top;\n",
       "    }\n",
       "\n",
       "    .dataframe thead th {\n",
       "        text-align: right;\n",
       "    }\n",
       "</style>\n",
       "<table border=\"1\" class=\"dataframe\">\n",
       "  <thead>\n",
       "    <tr style=\"text-align: right;\">\n",
       "      <th></th>\n",
       "      <th>Unit Price</th>\n",
       "      <th>Unit Price Tax</th>\n",
       "      <th>Shipping Charge</th>\n",
       "      <th>Total Discounts</th>\n",
       "      <th>Total Owed</th>\n",
       "      <th>Quantity</th>\n",
       "      <th>Order Status</th>\n",
       "      <th>Shipment Status</th>\n",
       "      <th>Ship Date</th>\n",
       "      <th>Shipping Option</th>\n",
       "      <th>Product Name</th>\n",
       "      <th>Order date</th>\n",
       "      <th>Order Time</th>\n",
       "      <th>Order Month</th>\n",
       "      <th>Order Year</th>\n",
       "    </tr>\n",
       "  </thead>\n",
       "  <tbody>\n",
       "    <tr>\n",
       "      <th>123</th>\n",
       "      <td>63,550.85</td>\n",
       "      <td>11,439.15</td>\n",
       "      <td>0.0</td>\n",
       "      <td>0</td>\n",
       "      <td>74990.0</td>\n",
       "      <td>1</td>\n",
       "      <td>Closed</td>\n",
       "      <td>Shipped</td>\n",
       "      <td>04/15/2022 20:31:31 UTC</td>\n",
       "      <td>same-in-cod-eligible</td>\n",
       "      <td>ASUS TUF Gaming A15 (2021) 15.6-inch (39.62 cm...</td>\n",
       "      <td>2022-04-15</td>\n",
       "      <td>17:17:36</td>\n",
       "      <td>2022-04</td>\n",
       "      <td>2022</td>\n",
       "    </tr>\n",
       "  </tbody>\n",
       "</table>\n",
       "</div>"
      ],
      "text/plain": [
       "    Unit Price Unit Price Tax  Shipping Charge Total Discounts  Total Owed  \\\n",
       "123  63,550.85      11,439.15              0.0               0     74990.0   \n",
       "\n",
       "     Quantity Order Status Shipment Status                Ship Date  \\\n",
       "123         1       Closed         Shipped  04/15/2022 20:31:31 UTC   \n",
       "\n",
       "          Shipping Option                                       Product Name  \\\n",
       "123  same-in-cod-eligible  ASUS TUF Gaming A15 (2021) 15.6-inch (39.62 cm...   \n",
       "\n",
       "     Order date Order Time Order Month Order Year  \n",
       "123  2022-04-15   17:17:36     2022-04       2022  "
      ]
     },
     "execution_count": 20,
     "metadata": {},
     "output_type": "execute_result"
    }
   ],
   "source": [
    "#where I spent the maximum amount of money\n",
    "data.query(\"`Total Owed`== 74990.0 and  `Order Status` != 'Cancelled'\")"
   ]
  },
  {
   "cell_type": "markdown",
   "id": "4c1b05f7",
   "metadata": {},
   "source": [
    "the highest amount I paid is : ₹ 74990 \n",
    "\n",
    "and the product I bought is : ASUS TUF Gaming A15 (2021) 15.6-inch"
   ]
  },
  {
   "cell_type": "markdown",
   "id": "2ba75d89",
   "metadata": {},
   "source": [
    "### lowest priced order"
   ]
  },
  {
   "cell_type": "code",
   "execution_count": 21,
   "id": "66be94ed",
   "metadata": {},
   "outputs": [
    {
     "data": {
      "text/plain": [
       "54.0"
      ]
     },
     "execution_count": 21,
     "metadata": {},
     "output_type": "execute_result"
    }
   ],
   "source": [
    "# total_spent[\"Total Owed\"].min()\n",
    "min_value = total_spent.loc[total_spent[\"Total Owed\"] > 49, \"Total Owed\"].min() \n",
    "min_value"
   ]
  },
  {
   "cell_type": "code",
   "execution_count": 22,
   "id": "360b3c33",
   "metadata": {},
   "outputs": [
    {
     "data": {
      "text/html": [
       "<div>\n",
       "<style scoped>\n",
       "    .dataframe tbody tr th:only-of-type {\n",
       "        vertical-align: middle;\n",
       "    }\n",
       "\n",
       "    .dataframe tbody tr th {\n",
       "        vertical-align: top;\n",
       "    }\n",
       "\n",
       "    .dataframe thead th {\n",
       "        text-align: right;\n",
       "    }\n",
       "</style>\n",
       "<table border=\"1\" class=\"dataframe\">\n",
       "  <thead>\n",
       "    <tr style=\"text-align: right;\">\n",
       "      <th></th>\n",
       "      <th>Unit Price</th>\n",
       "      <th>Unit Price Tax</th>\n",
       "      <th>Shipping Charge</th>\n",
       "      <th>Total Discounts</th>\n",
       "      <th>Total Owed</th>\n",
       "      <th>Quantity</th>\n",
       "      <th>Order Status</th>\n",
       "      <th>Shipment Status</th>\n",
       "      <th>Ship Date</th>\n",
       "      <th>Shipping Option</th>\n",
       "      <th>Product Name</th>\n",
       "      <th>Order date</th>\n",
       "      <th>Order Time</th>\n",
       "      <th>Order Month</th>\n",
       "      <th>Order Year</th>\n",
       "    </tr>\n",
       "  </thead>\n",
       "  <tbody>\n",
       "    <tr>\n",
       "      <th>64</th>\n",
       "      <td>51.43</td>\n",
       "      <td>2.57</td>\n",
       "      <td>0.0</td>\n",
       "      <td>0</td>\n",
       "      <td>54.0</td>\n",
       "      <td>1</td>\n",
       "      <td>Closed</td>\n",
       "      <td>Shipped</td>\n",
       "      <td>08/11/2022 22:17:29 UTC</td>\n",
       "      <td>next-in-pantry</td>\n",
       "      <td>Amazon Brand - Vedaka Sugar, Premium, 1kg</td>\n",
       "      <td>2022-08-11</td>\n",
       "      <td>17:17:09</td>\n",
       "      <td>2022-08</td>\n",
       "      <td>2022</td>\n",
       "    </tr>\n",
       "  </tbody>\n",
       "</table>\n",
       "</div>"
      ],
      "text/plain": [
       "   Unit Price Unit Price Tax  Shipping Charge Total Discounts  Total Owed  \\\n",
       "64      51.43           2.57              0.0               0        54.0   \n",
       "\n",
       "    Quantity Order Status Shipment Status                Ship Date  \\\n",
       "64         1       Closed         Shipped  08/11/2022 22:17:29 UTC   \n",
       "\n",
       "   Shipping Option                               Product Name  Order date  \\\n",
       "64  next-in-pantry  Amazon Brand - Vedaka Sugar, Premium, 1kg  2022-08-11   \n",
       "\n",
       "   Order Time Order Month Order Year  \n",
       "64   17:17:09     2022-08       2022  "
      ]
     },
     "execution_count": 22,
     "metadata": {},
     "output_type": "execute_result"
    }
   ],
   "source": [
    "#where I spend the mnimum amount of money\n",
    "data.query(\"`Total Owed`== 54.0 and  `Order Status` != 'Cancelled'\")"
   ]
  },
  {
   "cell_type": "markdown",
   "id": "5810868e",
   "metadata": {},
   "source": [
    "the lowest amount I paid is : ₹ 54.00\n",
    "\n",
    "and the product I bought is : Amazon Brand - Vedaka Sugar, Premium, 1kg"
   ]
  },
  {
   "cell_type": "markdown",
   "id": "84f41202",
   "metadata": {},
   "source": [
    "## amount of sales tax paid"
   ]
  },
  {
   "cell_type": "code",
   "execution_count": 23,
   "id": "795cc749",
   "metadata": {},
   "outputs": [
    {
     "data": {
      "text/plain": [
       "dtype('O')"
      ]
     },
     "execution_count": 23,
     "metadata": {},
     "output_type": "execute_result"
    }
   ],
   "source": [
    "# checking the data type of the column\n",
    "data[\"Unit Price Tax\"].dtype"
   ]
  },
  {
   "cell_type": "code",
   "execution_count": 24,
   "id": "156d5455",
   "metadata": {},
   "outputs": [],
   "source": [
    "#converting the column into intger data type\n",
    "data[\"Unit Price Tax\"]= data[\"Unit Price Tax\"].str.replace(\",\",\"\").astype(float)"
   ]
  },
  {
   "cell_type": "code",
   "execution_count": 25,
   "id": "526d0c07",
   "metadata": {},
   "outputs": [
    {
     "data": {
      "text/html": [
       "<div>\n",
       "<style scoped>\n",
       "    .dataframe tbody tr th:only-of-type {\n",
       "        vertical-align: middle;\n",
       "    }\n",
       "\n",
       "    .dataframe tbody tr th {\n",
       "        vertical-align: top;\n",
       "    }\n",
       "\n",
       "    .dataframe thead th {\n",
       "        text-align: right;\n",
       "    }\n",
       "</style>\n",
       "<table border=\"1\" class=\"dataframe\">\n",
       "  <thead>\n",
       "    <tr style=\"text-align: right;\">\n",
       "      <th></th>\n",
       "      <th>Unit Price Tax</th>\n",
       "    </tr>\n",
       "  </thead>\n",
       "  <tbody>\n",
       "    <tr>\n",
       "      <th>0</th>\n",
       "      <td>228.66</td>\n",
       "    </tr>\n",
       "    <tr>\n",
       "      <th>2</th>\n",
       "      <td>0.00</td>\n",
       "    </tr>\n",
       "    <tr>\n",
       "      <th>3</th>\n",
       "      <td>228.66</td>\n",
       "    </tr>\n",
       "    <tr>\n",
       "      <th>4</th>\n",
       "      <td>228.66</td>\n",
       "    </tr>\n",
       "    <tr>\n",
       "      <th>5</th>\n",
       "      <td>0.00</td>\n",
       "    </tr>\n",
       "    <tr>\n",
       "      <th>...</th>\n",
       "      <td>...</td>\n",
       "    </tr>\n",
       "    <tr>\n",
       "      <th>294</th>\n",
       "      <td>0.00</td>\n",
       "    </tr>\n",
       "    <tr>\n",
       "      <th>297</th>\n",
       "      <td>0.00</td>\n",
       "    </tr>\n",
       "    <tr>\n",
       "      <th>298</th>\n",
       "      <td>0.00</td>\n",
       "    </tr>\n",
       "    <tr>\n",
       "      <th>300</th>\n",
       "      <td>28.00</td>\n",
       "    </tr>\n",
       "    <tr>\n",
       "      <th>302</th>\n",
       "      <td>82.98</td>\n",
       "    </tr>\n",
       "  </tbody>\n",
       "</table>\n",
       "<p>228 rows × 1 columns</p>\n",
       "</div>"
      ],
      "text/plain": [
       "     Unit Price Tax\n",
       "0            228.66\n",
       "2              0.00\n",
       "3            228.66\n",
       "4            228.66\n",
       "5              0.00\n",
       "..              ...\n",
       "294            0.00\n",
       "297            0.00\n",
       "298            0.00\n",
       "300           28.00\n",
       "302           82.98\n",
       "\n",
       "[228 rows x 1 columns]"
      ]
     },
     "execution_count": 25,
     "metadata": {},
     "output_type": "execute_result"
    }
   ],
   "source": [
    "#converting it into a data frame\n",
    "tax_spend = data.query(\"`Order Status` != 'Cancelled'\")[\"Unit Price Tax\"]\n",
    "tax_spend = tax_spend.to_frame()\n",
    "tax_spend"
   ]
  },
  {
   "cell_type": "code",
   "execution_count": 26,
   "id": "2fb3b3a5",
   "metadata": {},
   "outputs": [
    {
     "data": {
      "text/plain": [
       "39246.25"
      ]
     },
     "execution_count": 26,
     "metadata": {},
     "output_type": "execute_result"
    }
   ],
   "source": [
    "#total tax paid\n",
    "tax_spend[\"Unit Price Tax\"].sum()"
   ]
  },
  {
   "cell_type": "markdown",
   "id": "aa2b32e7",
   "metadata": {},
   "source": [
    "the total amount of tax I paid is : ₹ 39246.25"
   ]
  },
  {
   "cell_type": "markdown",
   "id": "5e6191b4",
   "metadata": {},
   "source": [
    "### overall tax paid in percentage"
   ]
  },
  {
   "cell_type": "code",
   "execution_count": 27,
   "id": "56fd9808",
   "metadata": {},
   "outputs": [
    {
     "data": {
      "text/plain": [
       "11.322546738024664"
      ]
     },
     "execution_count": 27,
     "metadata": {},
     "output_type": "execute_result"
    }
   ],
   "source": [
    "overall_tax = tax_spend[\"Unit Price Tax\"].sum()/total_spent[\"Total Owed\"].sum()\n",
    "overall_tax_per = overall_tax*100\n",
    "overall_tax_per"
   ]
  },
  {
   "cell_type": "markdown",
   "id": "f7565799",
   "metadata": {},
   "source": [
    "the overall tax I paid for on amazon  is : 11.32 % "
   ]
  },
  {
   "cell_type": "markdown",
   "id": "74fe6bdf",
   "metadata": {},
   "source": [
    "### Calculate shipping expenses"
   ]
  },
  {
   "cell_type": "code",
   "execution_count": 28,
   "id": "04a0b058",
   "metadata": {},
   "outputs": [
    {
     "data": {
      "text/html": [
       "<div>\n",
       "<style scoped>\n",
       "    .dataframe tbody tr th:only-of-type {\n",
       "        vertical-align: middle;\n",
       "    }\n",
       "\n",
       "    .dataframe tbody tr th {\n",
       "        vertical-align: top;\n",
       "    }\n",
       "\n",
       "    .dataframe thead th {\n",
       "        text-align: right;\n",
       "    }\n",
       "</style>\n",
       "<table border=\"1\" class=\"dataframe\">\n",
       "  <thead>\n",
       "    <tr style=\"text-align: right;\">\n",
       "      <th></th>\n",
       "      <th>Shipping Charge</th>\n",
       "    </tr>\n",
       "  </thead>\n",
       "  <tbody>\n",
       "    <tr>\n",
       "      <th>0</th>\n",
       "      <td>0.0</td>\n",
       "    </tr>\n",
       "    <tr>\n",
       "      <th>2</th>\n",
       "      <td>0.0</td>\n",
       "    </tr>\n",
       "    <tr>\n",
       "      <th>3</th>\n",
       "      <td>0.0</td>\n",
       "    </tr>\n",
       "    <tr>\n",
       "      <th>4</th>\n",
       "      <td>0.0</td>\n",
       "    </tr>\n",
       "    <tr>\n",
       "      <th>5</th>\n",
       "      <td>0.0</td>\n",
       "    </tr>\n",
       "    <tr>\n",
       "      <th>...</th>\n",
       "      <td>...</td>\n",
       "    </tr>\n",
       "    <tr>\n",
       "      <th>294</th>\n",
       "      <td>0.0</td>\n",
       "    </tr>\n",
       "    <tr>\n",
       "      <th>297</th>\n",
       "      <td>0.0</td>\n",
       "    </tr>\n",
       "    <tr>\n",
       "      <th>298</th>\n",
       "      <td>0.0</td>\n",
       "    </tr>\n",
       "    <tr>\n",
       "      <th>300</th>\n",
       "      <td>1.9</td>\n",
       "    </tr>\n",
       "    <tr>\n",
       "      <th>302</th>\n",
       "      <td>30.0</td>\n",
       "    </tr>\n",
       "  </tbody>\n",
       "</table>\n",
       "<p>228 rows × 1 columns</p>\n",
       "</div>"
      ],
      "text/plain": [
       "     Shipping Charge\n",
       "0                0.0\n",
       "2                0.0\n",
       "3                0.0\n",
       "4                0.0\n",
       "5                0.0\n",
       "..               ...\n",
       "294              0.0\n",
       "297              0.0\n",
       "298              0.0\n",
       "300              1.9\n",
       "302             30.0\n",
       "\n",
       "[228 rows x 1 columns]"
      ]
     },
     "execution_count": 28,
     "metadata": {},
     "output_type": "execute_result"
    }
   ],
   "source": [
    "shipping_spend = data.query(\"`Order Status` != 'Cancelled'\")[\"Shipping Charge\"]\n",
    "shipping_spend = shipping_spend.to_frame()\n",
    "shipping_spend"
   ]
  },
  {
   "cell_type": "code",
   "execution_count": 29,
   "id": "cca85556",
   "metadata": {},
   "outputs": [
    {
     "data": {
      "text/plain": [
       "885.1"
      ]
     },
     "execution_count": 29,
     "metadata": {},
     "output_type": "execute_result"
    }
   ],
   "source": [
    "shipping_spend[\"Shipping Charge\"].sum()"
   ]
  },
  {
   "cell_type": "markdown",
   "id": "f79a52f4",
   "metadata": {},
   "source": [
    "total shipping charges I have paid is : ₹ 885.1"
   ]
  },
  {
   "cell_type": "markdown",
   "id": "f2c02259",
   "metadata": {},
   "source": [
    "### total discounts "
   ]
  },
  {
   "cell_type": "code",
   "execution_count": 30,
   "id": "1057dce9",
   "metadata": {},
   "outputs": [
    {
     "data": {
      "text/html": [
       "<div>\n",
       "<style scoped>\n",
       "    .dataframe tbody tr th:only-of-type {\n",
       "        vertical-align: middle;\n",
       "    }\n",
       "\n",
       "    .dataframe tbody tr th {\n",
       "        vertical-align: top;\n",
       "    }\n",
       "\n",
       "    .dataframe thead th {\n",
       "        text-align: right;\n",
       "    }\n",
       "</style>\n",
       "<table border=\"1\" class=\"dataframe\">\n",
       "  <thead>\n",
       "    <tr style=\"text-align: right;\">\n",
       "      <th></th>\n",
       "      <th>Total Discounts</th>\n",
       "    </tr>\n",
       "  </thead>\n",
       "  <tbody>\n",
       "    <tr>\n",
       "      <th>0</th>\n",
       "      <td>0</td>\n",
       "    </tr>\n",
       "    <tr>\n",
       "      <th>2</th>\n",
       "      <td>0</td>\n",
       "    </tr>\n",
       "    <tr>\n",
       "      <th>3</th>\n",
       "      <td>0</td>\n",
       "    </tr>\n",
       "    <tr>\n",
       "      <th>4</th>\n",
       "      <td>'-25'</td>\n",
       "    </tr>\n",
       "    <tr>\n",
       "      <th>5</th>\n",
       "      <td>0</td>\n",
       "    </tr>\n",
       "    <tr>\n",
       "      <th>...</th>\n",
       "      <td>...</td>\n",
       "    </tr>\n",
       "    <tr>\n",
       "      <th>294</th>\n",
       "      <td>0</td>\n",
       "    </tr>\n",
       "    <tr>\n",
       "      <th>297</th>\n",
       "      <td>0</td>\n",
       "    </tr>\n",
       "    <tr>\n",
       "      <th>298</th>\n",
       "      <td>0</td>\n",
       "    </tr>\n",
       "    <tr>\n",
       "      <th>300</th>\n",
       "      <td>0</td>\n",
       "    </tr>\n",
       "    <tr>\n",
       "      <th>302</th>\n",
       "      <td>0</td>\n",
       "    </tr>\n",
       "  </tbody>\n",
       "</table>\n",
       "<p>228 rows × 1 columns</p>\n",
       "</div>"
      ],
      "text/plain": [
       "    Total Discounts\n",
       "0                 0\n",
       "2                 0\n",
       "3                 0\n",
       "4             '-25'\n",
       "5                 0\n",
       "..              ...\n",
       "294               0\n",
       "297               0\n",
       "298               0\n",
       "300               0\n",
       "302               0\n",
       "\n",
       "[228 rows x 1 columns]"
      ]
     },
     "execution_count": 30,
     "metadata": {},
     "output_type": "execute_result"
    }
   ],
   "source": [
    "discount = data.query(\"`Order Status` != 'Cancelled'\")[\"Total Discounts\"]\n",
    "discount = discount.to_frame()\n",
    "discount"
   ]
  },
  {
   "cell_type": "code",
   "execution_count": 31,
   "id": "cd40a7d7",
   "metadata": {},
   "outputs": [],
   "source": [
    "discount[\"Total Discounts\"] = discount[\"Total Discounts\"].str.replace(\"['\\,]\",\"\", regex=True).astype(float)"
   ]
  },
  {
   "cell_type": "code",
   "execution_count": 32,
   "id": "e4750b87",
   "metadata": {},
   "outputs": [
    {
     "data": {
      "text/plain": [
       "Total Discounts   -2060.45\n",
       "dtype: float64"
      ]
     },
     "execution_count": 32,
     "metadata": {},
     "output_type": "execute_result"
    }
   ],
   "source": [
    "discount.sum()"
   ]
  },
  {
   "cell_type": "markdown",
   "id": "25580e2a",
   "metadata": {},
   "source": [
    "total discounts I have got is : ₹ 2060.45"
   ]
  },
  {
   "cell_type": "markdown",
   "id": "26bf068c",
   "metadata": {},
   "source": [
    "### money spent over a period of time"
   ]
  },
  {
   "cell_type": "code",
   "execution_count": 33,
   "id": "e43737fa",
   "metadata": {},
   "outputs": [],
   "source": [
    "#taking out the cancelled row from the data \n",
    "order_data = data[data[\"Order Status\"]!= \"Cancelled\"]"
   ]
  },
  {
   "cell_type": "code",
   "execution_count": null,
   "id": "ae88efa7",
   "metadata": {},
   "outputs": [],
   "source": [
    "order_data.head(2)"
   ]
  },
  {
   "cell_type": "code",
   "execution_count": 34,
   "id": "beb4e6cd",
   "metadata": {},
   "outputs": [
    {
     "data": {
      "text/plain": [
       "Order date\n",
       "2017-07-09     574.0\n",
       "2019-04-15     588.0\n",
       "2019-10-08     773.0\n",
       "2019-10-31      58.0\n",
       "2019-11-01       0.0\n",
       "               ...  \n",
       "2023-02-13     199.0\n",
       "2023-02-17    1474.0\n",
       "2023-02-18    1499.0\n",
       "2023-02-19     175.0\n",
       "2023-02-27    1499.0\n",
       "Name: Total Owed, Length: 160, dtype: float64"
      ]
     },
     "execution_count": 34,
     "metadata": {},
     "output_type": "execute_result"
    }
   ],
   "source": [
    "# Calculate expenses over time\n",
    "expenses_over_time = order_data.groupby(['Order date'])['Total Owed'].sum()\n",
    "expenses_over_time"
   ]
  },
  {
   "cell_type": "code",
   "execution_count": 35,
   "id": "734cfad2",
   "metadata": {},
   "outputs": [
    {
     "data": {
      "image/png": "[encoded data removed]",
      "text/plain": [
       "<Figure size 864x432 with 1 Axes>"
      ]
     },
     "metadata": {
      "needs_background": "light"
     },
     "output_type": "display_data"
    }
   ],
   "source": [
    "# Visualize expenses over time\n",
    "plt.figure(figsize=(12,6))\n",
    "sns.lineplot(x=expenses_over_time.index, y=expenses_over_time.values)\n",
    "plt.title('Expenses Over Time')\n",
    "plt.xlabel('Order Date')\n",
    "plt.ylabel('Total Expenses')\n",
    "plt.show()"
   ]
  },
  {
   "cell_type": "markdown",
   "id": "b35d3b00",
   "metadata": {},
   "source": [
    "### Calculate expenses by month"
   ]
  },
  {
   "cell_type": "code",
   "execution_count": 40,
   "id": "892540d8",
   "metadata": {},
   "outputs": [
    {
     "data": {
      "image/png": "[encoded data removed]",
      "text/plain": [
       "<Figure size 864x432 with 1 Axes>"
      ]
     },
     "metadata": {
      "needs_background": "light"
     },
     "output_type": "display_data"
    }
   ],
   "source": [
    "expenses_by_month = order_data.groupby(['Order Month'])['Total Owed'].sum()\n",
    "\n",
    "# Visualize expenses by month\n",
    "plt.figure(figsize=(12,6))\n",
    "sns.barplot(x=expenses_by_month.index.astype(str), y=expenses_by_month.values)\n",
    "plt.title('Expenses by Month')\n",
    "plt.xlabel('Order Month')\n",
    "plt.ylabel('Total Expenses')\n",
    "plt.xticks(rotation=90) # Rotate x-axis labels by 90 degrees\n",
    "plt.show()\n"
   ]
  },
  {
   "cell_type": "markdown",
   "id": "ee80459d",
   "metadata": {},
   "source": [
    "### calculate expenses by year"
   ]
  },
  {
   "cell_type": "code",
   "execution_count": 42,
   "id": "ff13c009",
   "metadata": {},
   "outputs": [
    {
     "data": {
      "image/png": "[encoded data removed]",
      "text/plain": [
       "<Figure size 864x432 with 1 Axes>"
      ]
     },
     "metadata": {
      "needs_background": "light"
     },
     "output_type": "display_data"
    }
   ],
   "source": [
    "expenses_by_year = order_data.groupby(['Order Year'])['Total Owed'].sum()\n",
    "\n",
    "# Visualize expenses by year\n",
    "plt.figure(figsize=(12,6))\n",
    "sns.barplot(x=expenses_by_year.index.astype(str), y=expenses_by_year.values)\n",
    "plt.title('Expenses by Year')\n",
    "plt.xlabel('Order Year')\n",
    "plt.ylabel('Total Expenses')\n",
    "plt.xticks(rotation=90) # Rotate x-axis labels by 90 degrees\n",
    "plt.show()"
   ]
  },
  {
   "cell_type": "markdown",
   "id": "5d416982",
   "metadata": {},
   "source": [
    "### total money paid with the tax and the shipping charges"
   ]
  },
  {
   "cell_type": "code",
   "execution_count": 43,
   "id": "ea4d03e5",
   "metadata": {},
   "outputs": [
    {
     "data": {
      "image/png": "[encoded data removed]",
      "text/plain": [
       "<Figure size 720x432 with 1 Axes>"
      ]
     },
     "metadata": {
      "needs_background": "light"
     },
     "output_type": "display_data"
    }
   ],
   "source": [
    "# group the data by the columns of interest and sum the values\n",
    "stacked_data = order_data.groupby(['Order Year'])[['Total Owed','Unit Price', 'Unit Price Tax', 'Shipping Charge', 'Total Discounts']].sum()\n",
    "\n",
    "# create a stacked bar chart\n",
    "ax = stacked_data.plot(kind='bar', stacked=True, figsize=(10, 6))\n",
    "ax.set_xlabel('Year')\n",
    "ax.set_ylabel('Amount (INR)')\n",
    "ax.set_title('Total amount with tax and shipping charges')\n",
    "\n",
    "# add a legend to the chart\n",
    "handles, labels = ax.get_legend_handles_labels()\n",
    "ax.legend(reversed(handles), reversed(labels))\n",
    "\n",
    "plt.show()\n"
   ]
  },
  {
   "cell_type": "markdown",
   "id": "a189b545",
   "metadata": {},
   "source": [
    "### tax paid over a period of time"
   ]
  },
  {
   "cell_type": "code",
   "execution_count": 45,
   "id": "920e630a",
   "metadata": {},
   "outputs": [
    {
     "name": "stdout",
     "output_type": "stream",
     "text": [
      "Order date\n",
      "2017-07-09     82.98\n",
      "2019-04-15     28.00\n",
      "2019-10-08      0.00\n",
      "2019-10-31      0.00\n",
      "2019-11-01      0.00\n",
      "               ...  \n",
      "2023-02-13      0.00\n",
      "2023-02-17    228.66\n",
      "2023-02-18    228.66\n",
      "2023-02-19      0.00\n",
      "2023-02-27    228.66\n",
      "Name: Unit Price Tax, Length: 160, dtype: float64\n"
     ]
    },
    {
     "data": {
      "image/png": "[encoded data removed]",
      "text/plain": [
       "<Figure size 864x432 with 1 Axes>"
      ]
     },
     "metadata": {
      "needs_background": "light"
     },
     "output_type": "display_data"
    }
   ],
   "source": [
    "# Calculate tax paid over time\n",
    "tax_over_time = order_data.groupby(['Order date'])['Unit Price Tax'].sum()\n",
    "print(tax_over_time)\n",
    "\n",
    "# Visualize tax paid over time\n",
    "plt.figure(figsize=(12,6))\n",
    "sns.lineplot(x=tax_over_time.index, y=tax_over_time.values)\n",
    "plt.title('tax Over Time')\n",
    "plt.xlabel('Order Date')\n",
    "plt.ylabel('Total Tax Paid')\n",
    "plt.show()"
   ]
  },
  {
   "cell_type": "markdown",
   "id": "4ffd034f",
   "metadata": {},
   "source": [
    "### tax paid by year"
   ]
  },
  {
   "cell_type": "code",
   "execution_count": 47,
   "id": "c1415855",
   "metadata": {},
   "outputs": [
    {
     "name": "stdout",
     "output_type": "stream",
     "text": [
      "Order Year\n",
      "2017       82.98\n",
      "2019       28.00\n",
      "2020     1052.39\n",
      "2021    14249.75\n",
      "2022    22718.50\n",
      "2023     1114.63\n",
      "Freq: A-DEC, Name: Unit Price Tax, dtype: float64\n"
     ]
    },
    {
     "data": {
      "image/png": "[encoded data removed]",
      "text/plain": [
       "<Figure size 864x432 with 1 Axes>"
      ]
     },
     "metadata": {
      "needs_background": "light"
     },
     "output_type": "display_data"
    }
   ],
   "source": [
    "tax_by_year = order_data.groupby(['Order Year'])['Unit Price Tax'].sum()\n",
    "print(tax_by_year)\n",
    "\n",
    "# Visualize tax paid by year\n",
    "plt.figure(figsize=(12,6))\n",
    "sns.barplot(x=tax_by_year.index.astype(str), y=tax_by_year.values)\n",
    "plt.title('Tax by Year')\n",
    "plt.xlabel('Order Year')\n",
    "plt.ylabel('Total Tax paid')\n",
    "plt.xticks(rotation=90) # Rotate x-axis labels by 90 degrees\n",
    "plt.show()"
   ]
  },
  {
   "cell_type": "markdown",
   "id": "7f91e540",
   "metadata": {},
   "source": [
    "### Insights"
   ]
  },
  {
   "cell_type": "markdown",
   "id": "c02c4bd8",
   "metadata": {},
   "source": [
    "1) the total amount of money I spent on amazon shopping is ₹346620.33\n",
    "\n",
    "2) the average amount of money I spent on amazon shopping is ₹ 1520.26\n",
    "\n",
    "3) the highest amount of money I spent is : ₹ 74990\n",
    "\n",
    "and highest amount of tax paid is : ₹ 11,439.15\n",
    "\n",
    "4) the lowest amount of money I spent is : ₹ 54.00\n",
    "\n",
    "5) the total amount of tax I paid is : ₹ 39246.25\n",
    "\n",
    "6) the overall tax I paid on amazon is : 11.32 %\n",
    "\n",
    "7) total shipping charges I have paid is : ₹ 885.1\n",
    "\n",
    "8) total discounts I have got is : ₹ 2060.45\n",
    " "
   ]
  },
  {
   "cell_type": "code",
   "execution_count": null,
   "id": "9a704e20",
   "metadata": {},
   "outputs": [],
   "source": []
  }
 ],
 "metadata": {
  "kernelspec": {
   "display_name": "Python 3 (ipykernel)",
   "language": "python",
   "name": "python3"
  },
  "language_info": {
   "codemirror_mode": {
    "name": "ipython",
    "version": 3
   },
   "file_extension": ".py",
   "mimetype": "text/x-python",
   "name": "python",
   "nbconvert_exporter": "python",
   "pygments_lexer": "ipython3",
   "version": "3.9.12"
  }
 },
 "nbformat": 4,
 "nbformat_minor": 5
}
